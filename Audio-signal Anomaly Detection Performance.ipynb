{
 "cells": [
  {
   "cell_type": "code",
   "execution_count": 2,
   "metadata": {},
   "outputs": [],
   "source": [
    "import numpy as np\n",
    "from python_speech_features import mfcc\n",
    "import librosa\n",
    "import scipy.io.wavfile as wav\n",
    "import matplotlib.pyplot as plt\n",
    "from sklearn import linear_model\n",
    "from sklearn.decomposition import PCA\n",
    "from sklearn.preprocessing import StandardScaler\n",
    "import pandas as pd\n",
    "from sklearn import svm\n",
    "from random import *"
   ]
  },
  {
   "cell_type": "code",
   "execution_count": 6,
   "metadata": {},
   "outputs": [
    {
     "name": "stdout",
     "output_type": "stream",
     "text": [
      "0.01 0.009600000000000063\n"
     ]
    }
   ],
   "source": [
    "fgamma = 0.01\n",
    "fnu = 0.02\n",
    "\n",
    "while True:\n",
    "    nor_obs = np.load('train_mfcc20.npy')\n",
    "\n",
    "    ano_obs = np.load('test_mfcc20.npy')\n",
    "\n",
    "    nor_obs = pd.DataFrame(nor_obs.real)\n",
    "    ano_obs = pd.DataFrame(ano_obs.real)\n",
    "\n",
    "    nor_obs= nor_obs.rename(columns={20: 'Category'})\n",
    "    ano_obs = ano_obs.rename(columns={20: 'Category'})\n",
    "\n",
    "    train_feature = nor_obs.sample(n=2553)\n",
    "#train_feature = nor_obs.loc[0:2562,:]\n",
    "    train_feature = train_feature.drop('Category',1)\n",
    "    train_rest = nor_obs.loc[~nor_obs.index.isin(train_feature.index)]\n",
    "    train_test = train_rest.sample(n=9)\n",
    "    train_valid = train_rest.loc[~train_rest.index.isin(train_test.index)]\n",
    "\n",
    "    Y_1 = train_valid['Category']\n",
    "#Y_1 = nor_obs.loc[2562:, 'Category']\n",
    "    Y_2 = ano_obs['Category']\n",
    "\n",
    "    X_test_1 = train_valid.drop('Category',1)\n",
    "#X_test_1 = nor_obs.loc[2562:,:].drop('Category',1)\n",
    "    X_test_2 = ano_obs.drop('Category',1)\n",
    "    X_test = X_test_1.append(X_test_2)\n",
    "\n",
    "\n",
    "    oneclass = svm.OneClassSVM(kernel = 'rbf',gamma = 'scale', nu=fnu)\n",
    "\n",
    "    Y_1 = train_valid['Category']\n",
    "#Y_1 = nor_obs.loc[2562:,'Category']\n",
    "    Y_2 = ano_obs['Category']\n",
    "    Y_test = Y_1.append(Y_2)\n",
    "\n",
    "    oneclass.fit(train_feature)\n",
    "\n",
    "    fraud_pred = oneclass.predict(X_test_1)\n",
    "\n",
    "    unique, counts = np.unique(fraud_pred, return_counts = True)\n",
    "\n",
    "    Y_1 = Y_1.to_frame()\n",
    "    Y_1 = Y_1.reset_index()\n",
    "    fraud_pred = pd.DataFrame(fraud_pred)\n",
    "    fraud_pred = fraud_pred.rename(columns={0:'prediction'})\n",
    "\n",
    "    TP=FN=FP=TN=0\n",
    "    for j in range(len(Y_1)):\n",
    "        if Y_1['Category'][j]==0 and fraud_pred['prediction'][j]==1:\n",
    "            TP=TP+1\n",
    "        elif Y_1['Category'][j]==0 and fraud_pred['prediction'][j] == -1:\n",
    "            FN=FN+1\n",
    "        elif Y_1['Category'][j]==1 and fraud_pred['prediction'][j]==1:\n",
    "            FP=FP+1\n",
    "        else:\n",
    "            TN=TN+1\n",
    "    if TP == 300:\n",
    "        print(fgamma, fnu)\n",
    "        break\n",
    "    else:\n",
    "        fnu-=0.0001\n",
    "        if fnu <= 0.0001:\n",
    "            #fgamma-=0.0001\n",
    "            fnu = 0.02"
   ]
  },
  {
   "cell_type": "code",
   "execution_count": 7,
   "metadata": {},
   "outputs": [
    {
     "name": "stdout",
     "output_type": "stream",
     "text": [
      "9 0 0 9\n",
      "1.0\n",
      "1.0\n",
      "1.0\n",
      "1.0\n",
      "1.0\n"
     ]
    }
   ],
   "source": [
    "X_test_1 = train_test.drop('Category',1)\n",
    "#X_test_1 = nor_obs.loc[2562:,:].drop('Category',1)\n",
    "X_test_2 = ano_obs.drop('Category',1)\n",
    "X_test = X_test_1.append(X_test_2)\n",
    "Y_1 = train_test['Category']\n",
    "#Y_1 = nor_obs.loc[2562:,'Category']\n",
    "Y_2 = ano_obs['Category']\n",
    "Y_test = Y_1.append(Y_2)\n",
    "fraud_pred = oneclass.predict(X_test)\n",
    "unique, counts = np.unique(fraud_pred, return_counts = True)\n",
    "Y_test = Y_test.to_frame()\n",
    "Y_test = Y_test.reset_index()\n",
    "fraud_pred = pd.DataFrame(fraud_pred)\n",
    "fraud_pred = fraud_pred.rename(columns={0:'prediction'})\n",
    "TP=FN=FP=TN=0\n",
    "for j in range(len(Y_test)):\n",
    "    if Y_test['Category'][j]==0 and fraud_pred['prediction'][j]==1:\n",
    "        TP=TP+1\n",
    "    elif Y_test['Category'][j]==0 and fraud_pred['prediction'][j] == -1:\n",
    "        FN=FN+1\n",
    "    elif Y_test['Category'][j]==1 and fraud_pred['prediction'][j]==1:\n",
    "        FP=FP+1\n",
    "    else:\n",
    "        TN=TN+1\n",
    "print(TP, FN, FP, TN)\n",
    "accuracy = (TP+TN)/(TP+FN+FP+TN)\n",
    "print (accuracy)\n",
    "sensitivity = TP/(TP+FN)\n",
    "print (sensitivity)\n",
    "specificity = TN/(TN+FP)\n",
    "print (specificity)\n",
    "precision = TP/(TP+FP)\n",
    "print(precision)\n",
    "F1_score = 2*(precision*sensitivity)/(precision+sensitivity)\n",
    "print(F1_score)"
   ]
  },
  {
   "cell_type": "code",
   "execution_count": 3,
   "metadata": {},
   "outputs": [
    {
     "name": "stdout",
     "output_type": "stream",
     "text": [
      "0.991111111111111\n",
      "0.982222222222222\n",
      "1.0\n",
      "1.0\n",
      "0.9905882352941174\n"
     ]
    }
   ],
   "source": [
    "fgamma = 0.01\n",
    "fnu = 0.02\n",
    "count = 0\n",
    "accuracy_sum = 0\n",
    "sensitivity_sum = 0\n",
    "specificity_sum = 0\n",
    "precision_sum = 0\n",
    "F1_score_sum = 0\n",
    "\n",
    "while True:\n",
    "    nor_obs = np.load('train_mfcc20.npy')\n",
    "\n",
    "    ano_obs = np.load('test_mfcc20.npy')\n",
    "\n",
    "    nor_obs = pd.DataFrame(nor_obs.real)\n",
    "    ano_obs = pd.DataFrame(ano_obs.real)\n",
    "\n",
    "    nor_obs= nor_obs.rename(columns={20: 'Category'})\n",
    "    ano_obs = ano_obs.rename(columns={20: 'Category'})\n",
    "\n",
    "    train_feature = nor_obs.sample(n=2553)\n",
    "#train_feature = nor_obs.loc[0:2562,:]\n",
    "    train_feature = train_feature.drop('Category',1)\n",
    "    train_rest = nor_obs.loc[~nor_obs.index.isin(train_feature.index)]\n",
    "    train_test = train_rest.sample(n=9)\n",
    "    train_valid = train_rest.loc[~train_rest.index.isin(train_test.index)]\n",
    "\n",
    "    Y_1 = train_valid['Category']\n",
    "#Y_1 = nor_obs.loc[2562:, 'Category']\n",
    "    Y_2 = ano_obs['Category']\n",
    "\n",
    "    X_test_1 = train_valid.drop('Category',1)\n",
    "#X_test_1 = nor_obs.loc[2562:,:].drop('Category',1)\n",
    "    X_test_2 = ano_obs.drop('Category',1)\n",
    "    X_test = X_test_1.append(X_test_2)\n",
    "\n",
    "\n",
    "    oneclass = svm.OneClassSVM(kernel = 'rbf', gamma=fgamma, nu=fnu)\n",
    "\n",
    "    Y_1 = train_valid['Category']\n",
    "#Y_1 = nor_obs.loc[2562:,'Category']\n",
    "    Y_2 = ano_obs['Category']\n",
    "    Y_test = Y_1.append(Y_2)\n",
    "\n",
    "    oneclass.fit(train_feature)\n",
    "\n",
    "    fraud_pred = oneclass.predict(X_test_1)\n",
    "\n",
    "    #unique, counts = np.unique(fraud_pred, return_counts = True)\n",
    "\n",
    "    Y_1 = Y_1.to_frame()\n",
    "    Y_1 = Y_1.reset_index()\n",
    "    fraud_pred = pd.DataFrame(fraud_pred)\n",
    "    fraud_pred = fraud_pred.rename(columns={0:'prediction'})\n",
    "\n",
    "    TP=FN=FP=TN=0\n",
    "    for j in range(len(Y_1)):\n",
    "        if Y_1['Category'][j]==0 and fraud_pred['prediction'][j]==1:\n",
    "            TP=TP+1\n",
    "        elif Y_1['Category'][j]==0 and fraud_pred['prediction'][j] == -1:\n",
    "            FN=FN+1\n",
    "        elif Y_1['Category'][j]==1 and fraud_pred['prediction'][j]==1:\n",
    "            FP=FP+1\n",
    "        else:\n",
    "            TN=TN+1\n",
    "    if TP == 300:\n",
    "        X_test_1 = train_test.drop('Category',1)\n",
    "        #X_test_1 = nor_obs.loc[2562:,:].drop('Category',1)\n",
    "        X_test_2 = ano_obs.drop('Category',1)\n",
    "        X_test = X_test_1.append(X_test_2)\n",
    "        Y_1 = train_test['Category']\n",
    "        #Y_1 = nor_obs.loc[2562:,'Category']\n",
    "        Y_2 = ano_obs['Category']\n",
    "        Y_test = Y_1.append(Y_2)\n",
    "        fraud_pred = oneclass.predict(X_test)\n",
    "        unique, counts = np.unique(fraud_pred, return_counts = True)\n",
    "        Y_test = Y_test.to_frame()\n",
    "        Y_test = Y_test.reset_index()\n",
    "        fraud_pred = pd.DataFrame(fraud_pred)\n",
    "        fraud_pred = fraud_pred.rename(columns={0:'prediction'})\n",
    "        TP=FN=FP=TN=0\n",
    "        for j in range(len(Y_test)):\n",
    "            if Y_test['Category'][j]==0 and fraud_pred['prediction'][j]==1:\n",
    "                TP=TP+1\n",
    "            elif Y_test['Category'][j]==0 and fraud_pred['prediction'][j] == -1:\n",
    "                FN=FN+1\n",
    "            elif Y_test['Category'][j]==1 and fraud_pred['prediction'][j]==1:\n",
    "                FP=FP+1\n",
    "            else:\n",
    "                TN=TN+1\n",
    "        \n",
    "        accuracy = (TP+TN)/(TP+FN+FP+TN)\n",
    "        accuracy_sum += accuracy\n",
    "        sensitivity = TP/(TP+FN)\n",
    "        sensitivity_sum += sensitivity\n",
    "        specificity = TN/(TN+FP)\n",
    "        specificity_sum += specificity\n",
    "\n",
    "        precision = TP/(TP+FP)\n",
    "        precision_sum += precision\n",
    "        F1_score = 2*(precision*sensitivity)/(precision+sensitivity)\n",
    "        F1_score_sum += F1_score\n",
    "        count+=1\n",
    "        fgamma = 0.01\n",
    "        fnu = 0.02\n",
    "        if count == 100:\n",
    "            print(accuracy_sum/100)\n",
    "            print(sensitivity_sum/100)\n",
    "            print(specificity_sum/100)\n",
    "            print(precision_sum/100)\n",
    "            print(F1_score_sum/100)\n",
    "            accuracy_22050 = accuracy_sum/100\n",
    "            sensitivity_22050 = sensitivity_sum/100\n",
    "            specificity_22050 = specificity_sum/100\n",
    "            precision_22050 = precision_sum/100\n",
    "            F1_score_22050 = F1_score_sum/100\n",
    "            break;\n",
    "    else:\n",
    "        fnu-=0.0001\n",
    "        if fnu <= 0.0001:\n",
    "            #fgamma-=0.0001\n",
    "            fnu = 0.02"
   ]
  },
  {
   "cell_type": "code",
   "execution_count": 4,
   "metadata": {},
   "outputs": [
    {
     "data": {
      "image/png": "[encoded data removed]",
      "text/plain": [
       "<Figure size 432x288 with 1 Axes>"
      ]
     },
     "metadata": {
      "needs_background": "light"
     },
     "output_type": "display_data"
    }
   ],
   "source": [
    "x = ['Precision', 'Recall', 'Accuracy', 'Specificity', 'F1_score']\n",
    "y = [100,99.11,99.55,100,99.25]\n",
    "y1 = [97.42,96.67,96.94,97.22,96.95]\n",
    "plt.plot(x,y, marker=\"o\", ms = 10, ls=\"--\",c=\"c\", label='OneClassSVM')\n",
    "plt.plot(x,y1, marker=\"o\", ms = 10, ls=\"--\",c=\"r\", label = 'AutoEncoder')\n",
    "plt.title(\"Performance measure\")\n",
    "plt.ylim(90,100)\n",
    "plt.legend(loc='lower right')\n",
    "plt.show()"
   ]
  },
  {
   "cell_type": "code",
   "execution_count": null,
   "metadata": {},
   "outputs": [],
   "source": [
    "# gamma 값을 구해주는 것"
   ]
  },
  {
   "cell_type": "code",
   "execution_count": 4,
   "metadata": {
    "collapsed": true
   },
   "outputs": [
    {
     "ename": "KeyboardInterrupt",
     "evalue": "",
     "output_type": "error",
     "traceback": [
      "\u001b[1;31m---------------------------------------------------------------------------\u001b[0m",
      "\u001b[1;31mKeyboardInterrupt\u001b[0m                         Traceback (most recent call last)",
      "\u001b[1;32m<ipython-input-4-181772818890>\u001b[0m in \u001b[0;36m<module>\u001b[1;34m\u001b[0m\n\u001b[0;32m     47\u001b[0m     \u001b[0moneclass\u001b[0m\u001b[1;33m.\u001b[0m\u001b[0mfit\u001b[0m\u001b[1;33m(\u001b[0m\u001b[0mtrain_feature\u001b[0m\u001b[1;33m)\u001b[0m\u001b[1;33m\u001b[0m\u001b[1;33m\u001b[0m\u001b[0m\n\u001b[0;32m     48\u001b[0m \u001b[1;33m\u001b[0m\u001b[0m\n\u001b[1;32m---> 49\u001b[1;33m     \u001b[0mfraud_pred\u001b[0m \u001b[1;33m=\u001b[0m \u001b[0moneclass\u001b[0m\u001b[1;33m.\u001b[0m\u001b[0mpredict\u001b[0m\u001b[1;33m(\u001b[0m\u001b[0mX_test_1\u001b[0m\u001b[1;33m)\u001b[0m\u001b[1;33m\u001b[0m\u001b[1;33m\u001b[0m\u001b[0m\n\u001b[0m\u001b[0;32m     50\u001b[0m \u001b[1;33m\u001b[0m\u001b[0m\n\u001b[0;32m     51\u001b[0m     \u001b[0munique\u001b[0m\u001b[1;33m,\u001b[0m \u001b[0mcounts\u001b[0m \u001b[1;33m=\u001b[0m \u001b[0mnp\u001b[0m\u001b[1;33m.\u001b[0m\u001b[0munique\u001b[0m\u001b[1;33m(\u001b[0m\u001b[0mfraud_pred\u001b[0m\u001b[1;33m,\u001b[0m \u001b[0mreturn_counts\u001b[0m \u001b[1;33m=\u001b[0m \u001b[1;32mTrue\u001b[0m\u001b[1;33m)\u001b[0m\u001b[1;33m\u001b[0m\u001b[1;33m\u001b[0m\u001b[0m\n",
      "\u001b[1;32mc:\\users\\gyung\\miniconda3\\lib\\site-packages\\sklearn\\svm\\classes.py\u001b[0m in \u001b[0;36mpredict\u001b[1;34m(self, X)\u001b[0m\n\u001b[0;32m   1238\u001b[0m             \u001b[0mClass\u001b[0m \u001b[0mlabels\u001b[0m \u001b[1;32mfor\u001b[0m \u001b[0msamples\u001b[0m \u001b[1;32min\u001b[0m \u001b[0mX\u001b[0m\u001b[1;33m.\u001b[0m\u001b[1;33m\u001b[0m\u001b[1;33m\u001b[0m\u001b[0m\n\u001b[0;32m   1239\u001b[0m         \"\"\"\n\u001b[1;32m-> 1240\u001b[1;33m         \u001b[0my\u001b[0m \u001b[1;33m=\u001b[0m \u001b[0msuper\u001b[0m\u001b[1;33m(\u001b[0m\u001b[1;33m)\u001b[0m\u001b[1;33m.\u001b[0m\u001b[0mpredict\u001b[0m\u001b[1;33m(\u001b[0m\u001b[0mX\u001b[0m\u001b[1;33m)\u001b[0m\u001b[1;33m\u001b[0m\u001b[1;33m\u001b[0m\u001b[0m\n\u001b[0m\u001b[0;32m   1241\u001b[0m         \u001b[1;32mreturn\u001b[0m \u001b[0mnp\u001b[0m\u001b[1;33m.\u001b[0m\u001b[0masarray\u001b[0m\u001b[1;33m(\u001b[0m\u001b[0my\u001b[0m\u001b[1;33m,\u001b[0m \u001b[0mdtype\u001b[0m\u001b[1;33m=\u001b[0m\u001b[0mnp\u001b[0m\u001b[1;33m.\u001b[0m\u001b[0mintp\u001b[0m\u001b[1;33m)\u001b[0m\u001b[1;33m\u001b[0m\u001b[1;33m\u001b[0m\u001b[0m\n",
      "\u001b[1;32mc:\\users\\gyung\\miniconda3\\lib\\site-packages\\sklearn\\svm\\base.py\u001b[0m in \u001b[0;36mpredict\u001b[1;34m(self, X)\u001b[0m\n\u001b[0;32m    322\u001b[0m         \u001b[0mX\u001b[0m \u001b[1;33m=\u001b[0m \u001b[0mself\u001b[0m\u001b[1;33m.\u001b[0m\u001b[0m_validate_for_predict\u001b[0m\u001b[1;33m(\u001b[0m\u001b[0mX\u001b[0m\u001b[1;33m)\u001b[0m\u001b[1;33m\u001b[0m\u001b[1;33m\u001b[0m\u001b[0m\n\u001b[0;32m    323\u001b[0m         \u001b[0mpredict\u001b[0m \u001b[1;33m=\u001b[0m \u001b[0mself\u001b[0m\u001b[1;33m.\u001b[0m\u001b[0m_sparse_predict\u001b[0m \u001b[1;32mif\u001b[0m \u001b[0mself\u001b[0m\u001b[1;33m.\u001b[0m\u001b[0m_sparse\u001b[0m \u001b[1;32melse\u001b[0m \u001b[0mself\u001b[0m\u001b[1;33m.\u001b[0m\u001b[0m_dense_predict\u001b[0m\u001b[1;33m\u001b[0m\u001b[1;33m\u001b[0m\u001b[0m\n\u001b[1;32m--> 324\u001b[1;33m         \u001b[1;32mreturn\u001b[0m \u001b[0mpredict\u001b[0m\u001b[1;33m(\u001b[0m\u001b[0mX\u001b[0m\u001b[1;33m)\u001b[0m\u001b[1;33m\u001b[0m\u001b[1;33m\u001b[0m\u001b[0m\n\u001b[0m\u001b[0;32m    325\u001b[0m \u001b[1;33m\u001b[0m\u001b[0m\n\u001b[0;32m    326\u001b[0m     \u001b[1;32mdef\u001b[0m \u001b[0m_dense_predict\u001b[0m\u001b[1;33m(\u001b[0m\u001b[0mself\u001b[0m\u001b[1;33m,\u001b[0m \u001b[0mX\u001b[0m\u001b[1;33m)\u001b[0m\u001b[1;33m:\u001b[0m\u001b[1;33m\u001b[0m\u001b[1;33m\u001b[0m\u001b[0m\n",
      "\u001b[1;32mc:\\users\\gyung\\miniconda3\\lib\\site-packages\\sklearn\\svm\\base.py\u001b[0m in \u001b[0;36m_dense_predict\u001b[1;34m(self, X)\u001b[0m\n\u001b[0;32m    344\u001b[0m             \u001b[0mself\u001b[0m\u001b[1;33m.\u001b[0m\u001b[0mprobA_\u001b[0m\u001b[1;33m,\u001b[0m \u001b[0mself\u001b[0m\u001b[1;33m.\u001b[0m\u001b[0mprobB_\u001b[0m\u001b[1;33m,\u001b[0m \u001b[0msvm_type\u001b[0m\u001b[1;33m=\u001b[0m\u001b[0msvm_type\u001b[0m\u001b[1;33m,\u001b[0m \u001b[0mkernel\u001b[0m\u001b[1;33m=\u001b[0m\u001b[0mkernel\u001b[0m\u001b[1;33m,\u001b[0m\u001b[1;33m\u001b[0m\u001b[1;33m\u001b[0m\u001b[0m\n\u001b[0;32m    345\u001b[0m             \u001b[0mdegree\u001b[0m\u001b[1;33m=\u001b[0m\u001b[0mself\u001b[0m\u001b[1;33m.\u001b[0m\u001b[0mdegree\u001b[0m\u001b[1;33m,\u001b[0m \u001b[0mcoef0\u001b[0m\u001b[1;33m=\u001b[0m\u001b[0mself\u001b[0m\u001b[1;33m.\u001b[0m\u001b[0mcoef0\u001b[0m\u001b[1;33m,\u001b[0m \u001b[0mgamma\u001b[0m\u001b[1;33m=\u001b[0m\u001b[0mself\u001b[0m\u001b[1;33m.\u001b[0m\u001b[0m_gamma\u001b[0m\u001b[1;33m,\u001b[0m\u001b[1;33m\u001b[0m\u001b[1;33m\u001b[0m\u001b[0m\n\u001b[1;32m--> 346\u001b[1;33m             cache_size=self.cache_size)\n\u001b[0m\u001b[0;32m    347\u001b[0m \u001b[1;33m\u001b[0m\u001b[0m\n\u001b[0;32m    348\u001b[0m     \u001b[1;32mdef\u001b[0m \u001b[0m_sparse_predict\u001b[0m\u001b[1;33m(\u001b[0m\u001b[0mself\u001b[0m\u001b[1;33m,\u001b[0m \u001b[0mX\u001b[0m\u001b[1;33m)\u001b[0m\u001b[1;33m:\u001b[0m\u001b[1;33m\u001b[0m\u001b[1;33m\u001b[0m\u001b[0m\n",
      "\u001b[1;31mKeyboardInterrupt\u001b[0m: "
     ]
    }
   ],
   "source": [
    "fgamma = 0.1  # gamma 값을 0.3 부터 시작하여 점점 값을 줄여가며 측정해나간다.\n",
    "fnu = 0.01  # nu 값은 0.01로 고정시킨다.\n",
    "count = 0\n",
    "accuracy_sum = 0\n",
    "sensitivity_sum = 0\n",
    "specificity_sum = 0\n",
    "precision_sum = 0\n",
    "F1_score_sum = 0\n",
    "alist = []  # TP 값을 계속 저장해 나갈 list\n",
    "xlist = []  # gamma 값을 저장해 나갈 list\n",
    "\n",
    "while True:\n",
    "    nor_obs = np.load('train_mfcc20.npy')\n",
    "\n",
    "    ano_obs = np.load('test_mfcc20.npy')\n",
    "\n",
    "    nor_obs = pd.DataFrame(nor_obs.real)\n",
    "    ano_obs = pd.DataFrame(ano_obs.real)\n",
    "\n",
    "    nor_obs= nor_obs.rename(columns={20: 'Category'})\n",
    "    ano_obs = ano_obs.rename(columns={20: 'Category'})\n",
    "\n",
    "    train_feature = nor_obs.sample(n=2553)\n",
    "#train_feature = nor_obs.loc[0:2562,:]\n",
    "    train_feature = train_feature.drop('Category',1)\n",
    "    train_rest = nor_obs.loc[~nor_obs.index.isin(train_feature.index)]\n",
    "    train_test = train_rest.sample(n=9)\n",
    "    train_valid = train_rest.loc[~train_rest.index.isin(train_test.index)]\n",
    "\n",
    "    Y_1 = train_valid['Category']\n",
    "#Y_1 = nor_obs.loc[2562:, 'Category']\n",
    "    Y_2 = ano_obs['Category']\n",
    "\n",
    "    X_test_1 = train_valid.drop('Category',1)\n",
    "#X_test_1 = nor_obs.loc[2562:,:].drop('Category',1)\n",
    "    X_test_2 = ano_obs.drop('Category',1)\n",
    "    X_test = X_test_1.append(X_test_2)\n",
    "\n",
    "\n",
    "    oneclass = svm.OneClassSVM(kernel = 'rbf', gamma=fgamma, nu=fnu)\n",
    "\n",
    "    Y_1 = train_valid['Category']\n",
    "#Y_1 = nor_obs.loc[2562:,'Category']\n",
    "    Y_2 = ano_obs['Category']\n",
    "    Y_test = Y_1.append(Y_2)\n",
    "\n",
    "    oneclass.fit(train_feature)\n",
    "\n",
    "    fraud_pred = oneclass.predict(X_test_1)\n",
    "\n",
    "    #unique, counts = np.unique(fraud_pred, return_counts = True)\n",
    "\n",
    "    Y_1 = Y_1.to_frame()\n",
    "    Y_1 = Y_1.reset_index()\n",
    "    fraud_pred = pd.DataFrame(fraud_pred)\n",
    "    fraud_pred = fraud_pred.rename(columns={0:'prediction'})\n",
    "\n",
    "    TP=FN=FP=TN=0\n",
    "    for j in range(len(Y_1)):\n",
    "        if Y_1['Category'][j]==0 and fraud_pred['prediction'][j]==1:\n",
    "            TP=TP+1\n",
    "        elif Y_1['Category'][j]==0 and fraud_pred['prediction'][j] == -1:\n",
    "            FN=FN+1\n",
    "        elif Y_1['Category'][j]==1 and fraud_pred['prediction'][j]==1:\n",
    "            FP=FP+1\n",
    "        else:\n",
    "            TN=TN+1\n",
    "    if TP == 300:\n",
    "        print(fgamma)\n",
    "    alist.append(TP)  # alist에 TP 값을 계속 저장해나간다.\n",
    "    xlist.append(fgamma) # xlist 에 gamma 값을 계속 저장해나간다.\n",
    "    fgamma -=0.0002  # 수행 후 gamma 값을 2로 나누어줌\n",
    "    if fgamma<0.000001:  # gamma 값이 0.000001 보다 작아지면 무한루프를 멈추고 끝낸다.\n",
    "        break;"
   ]
  },
  {
   "cell_type": "code",
   "execution_count": 3,
   "metadata": {},
   "outputs": [
    {
     "data": {
      "image/png": "[encoded data removed]",
      "text/plain": [
       "<Figure size 432x288 with 1 Axes>"
      ]
     },
     "metadata": {
      "needs_background": "light"
     },
     "output_type": "display_data"
    }
   ],
   "source": [
    "plt.plot(xlist,alist)\n",
    "plt.title(\"Validation according gamma value\")\n",
    "plt.axvline(x=0.01,color='r',ls=\"--\")\n",
    "plt.xscale('log')\n",
    "plt.show()  # x축을 log스케일로 찍어서 plot을 찍으면 300개를 처음으로 다 맞추는 구간의 gamma값이 10^-2 즉 0.01 이 된다. 때문에 gamma를 0.01로 고정시킨다."
   ]
  },
  {
   "cell_type": "code",
   "execution_count": null,
   "metadata": {},
   "outputs": [],
   "source": [
    "#ROC커브"
   ]
  },
  {
   "cell_type": "code",
   "execution_count": 26,
   "metadata": {},
   "outputs": [],
   "source": [
    "from sklearn.metrics import roc_curve, auc\n"
   ]
  },
  {
   "cell_type": "code",
   "execution_count": 33,
   "metadata": {},
   "outputs": [
    {
     "data": {
      "text/plain": [
       "(array([0., 0., 0., 1.]),\n",
       " array([0.        , 0.11111111, 1.        , 1.        ]),\n",
       " array([ 1.11682685,  0.11682685,  0.06894449, -1.50288009]))"
      ]
     },
     "execution_count": 33,
     "metadata": {},
     "output_type": "execute_result"
    }
   ],
   "source": [
    "fpr, tpr, thresholds = roc_curve(fraud_pred, Z)\n",
    "fpr, tpr, thresholds"
   ]
  },
  {
   "cell_type": "code",
   "execution_count": 34,
   "metadata": {},
   "outputs": [
    {
     "data": {
      "image/png": "[encoded data removed]",
      "text/plain": [
       "<Figure size 432x288 with 1 Axes>"
      ]
     },
     "metadata": {
      "needs_background": "light"
     },
     "output_type": "display_data"
    }
   ],
   "source": [
    "plt.plot(fpr, tpr, 'o-', label=\"Logistic Regression\")\n",
    "plt.plot([0, 1], [0, 1], 'k--', label=\"random guess\")\n",
    "plt.plot([specificity], [sensitivity], 'ro', ms=10)\n",
    "plt.xlabel('specificity(Fall-Out)')\n",
    "plt.ylabel('sensitivity(Recall)')\n",
    "plt.title('Receiver operating characteristic example')\n",
    "plt.show()"
   ]
  },
  {
   "cell_type": "code",
   "execution_count": null,
   "metadata": {},
   "outputs": [],
   "source": []
  }
 ],
 "metadata": {
  "kernelspec": {
   "display_name": "Python 3",
   "language": "python",
   "name": "python3"
  },
  "language_info": {
   "codemirror_mode": {
    "name": "ipython",
    "version": 3
   },
   "file_extension": ".py",
   "mimetype": "text/x-python",
   "name": "python",
   "nbconvert_exporter": "python",
   "pygments_lexer": "ipython3",
   "version": "3.7.4"
  }
 },
 "nbformat": 4,
 "nbformat_minor": 2
}
