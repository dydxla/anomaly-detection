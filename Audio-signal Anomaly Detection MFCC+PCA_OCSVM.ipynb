{
 "cells": [
  {
   "cell_type": "code",
   "execution_count": 2,
   "metadata": {},
   "outputs": [],
   "source": [
    "import numpy as np\n",
    "import librosa\n",
    "import scipy.io.wavfile as wav\n",
    "import matplotlib.pyplot as plt\n",
    "from sklearn import linear_model\n",
    "from sklearn.decomposition import PCA\n",
    "from sklearn.preprocessing import StandardScaler"
   ]
  },
  {
   "cell_type": "code",
   "execution_count": 6,
   "metadata": {},
   "outputs": [
    {
     "name": "stdout",
     "output_type": "stream",
     "text": [
      "[ 0.00995745  0.0182266  -0.00475176 ... -0.2698473  -0.26954573\n",
      " -0.27955517] 22050\n",
      "(20, 216)\n"
     ]
    }
   ],
   "source": [
    "y, sr = librosa.load('wav폴더\\\\test1.wav', sr=22050) # 1번 wav파일 load\n",
    "\n",
    "mfcc = librosa.feature.mfcc(y=y, sr=sr)  # load한 1번 wav파일을 mfcc 적용. shape 는 (20x216) 20은 나눠준 프레임수 216은 각 프레임의 특징값 수\n",
    "\n",
    "x_std = StandardScaler().fit_transform(mfcc)  # mfcc적용한 값들을 rescaling 해서 모두 같은 범위 안에 있도록 해준다.\n",
    "\n",
    "print(y,sr)\n",
    "print(mfcc.shape)\n"
   ]
  },
  {
   "cell_type": "code",
   "execution_count": 7,
   "metadata": {},
   "outputs": [],
   "source": [
    "features = x_std.T  # 216개의 특징값에 대한 covariance matrix를 만들기 위해선 216개의 특징값을 row로 바꿔야한다.\n",
    "# 그래서 x_std에 .T를 붙여 transpose를 해줌."
   ]
  },
  {
   "cell_type": "code",
   "execution_count": 8,
   "metadata": {},
   "outputs": [
    {
     "data": {
      "text/plain": [
       "(216, 20)"
      ]
     },
     "execution_count": 8,
     "metadata": {},
     "output_type": "execute_result"
    }
   ],
   "source": [
    "features.shape # 그럼 (20x216) 이던게 (216x20) 으로 바뀜"
   ]
  },
  {
   "cell_type": "code",
   "execution_count": 9,
   "metadata": {},
   "outputs": [
    {
     "data": {
      "text/plain": [
       "(216, 216)"
      ]
     },
     "execution_count": 9,
     "metadata": {},
     "output_type": "execute_result"
    }
   ],
   "source": [
    "covariance_matrix = np.cov(features) # 216개의 특징값에 대한 covariance matrix를 생성\n",
    "covariance_matrix.shape  # 그럼 covariance matrix는 (216x216) 이 된다."
   ]
  },
  {
   "cell_type": "code",
   "execution_count": 10,
   "metadata": {},
   "outputs": [],
   "source": [
    "eig_vals, eig_vecs = np.linalg.eig(covariance_matrix)  # np.linalg.eig 를 사용해서 covariance_matrix의 고유값과 고유벡터를 구함."
   ]
  },
  {
   "cell_type": "code",
   "execution_count": 11,
   "metadata": {},
   "outputs": [
    {
     "name": "stdout",
     "output_type": "stream",
     "text": [
      "[ 2.26430138e+02+0.00000000e+00j  1.85850844e-01+0.00000000e+00j\n",
      "  1.61910985e-01+0.00000000e+00j  9.78936726e-02+0.00000000e+00j\n",
      "  7.78678272e-02+0.00000000e+00j  6.62864664e-02+0.00000000e+00j\n",
      "  5.67783566e-02+0.00000000e+00j  5.13292988e-02+0.00000000e+00j\n",
      "  4.29834732e-02+0.00000000e+00j  3.86072222e-02+0.00000000e+00j\n",
      "  3.51611134e-02+0.00000000e+00j  2.75719523e-02+0.00000000e+00j\n",
      "  2.25427692e-02+0.00000000e+00j  1.98497560e-02+0.00000000e+00j\n",
      "  1.58320523e-02+0.00000000e+00j  1.38362720e-02+0.00000000e+00j\n",
      "  1.16236578e-02+0.00000000e+00j  8.48210451e-03+0.00000000e+00j\n",
      "  3.87544639e-03+0.00000000e+00j  1.55855557e-14+0.00000000e+00j\n",
      " -1.35912802e-14+0.00000000e+00j  3.81034416e-15+1.26718328e-14j\n",
      "  3.81034416e-15-1.26718328e-14j  1.18531591e-14+0.00000000e+00j\n",
      "  8.73910933e-15+6.94919028e-15j  8.73910933e-15-6.94919028e-15j\n",
      " -9.42618188e-15+5.27146900e-15j -9.42618188e-15-5.27146900e-15j\n",
      " -4.81473458e-15+7.88183498e-15j -4.81473458e-15-7.88183498e-15j\n",
      "  8.90406555e-15+7.70798748e-16j  8.90406555e-15-7.70798748e-16j\n",
      " -8.65905226e-15+0.00000000e+00j  2.15147105e-15+6.79664531e-15j\n",
      "  2.15147105e-15-6.79664531e-15j  7.28074825e-15+2.94245827e-15j\n",
      "  7.28074825e-15-2.94245827e-15j  8.16188108e-15+0.00000000e+00j\n",
      " -7.98724055e-15+0.00000000e+00j -7.53005600e-15+1.32456696e-15j\n",
      " -7.53005600e-15-1.32456696e-15j -7.14727311e-15+2.11008598e-15j\n",
      " -7.14727311e-15-2.11008598e-15j -6.20114558e-15+3.50421399e-15j\n",
      " -6.20114558e-15-3.50421399e-15j  7.49668723e-15+1.27334719e-15j\n",
      "  7.49668723e-15-1.27334719e-15j  5.95646128e-15+3.72570233e-15j\n",
      "  5.95646128e-15-3.72570233e-15j -7.26441273e-15+0.00000000e+00j\n",
      " -2.00829599e-15+5.89596606e-15j -2.00829599e-15-5.89596606e-15j\n",
      "  6.80626750e-15+9.07012839e-16j  6.80626750e-15-9.07012839e-16j\n",
      "  6.35171824e-15+2.16638895e-15j  6.35171824e-15-2.16638895e-15j\n",
      "  5.36309152e-15+3.57589092e-15j  5.36309152e-15-3.57589092e-15j\n",
      " -4.82602073e-15+4.28606339e-15j -4.82602073e-15-4.28606339e-15j\n",
      " -6.19545992e-15+2.55908117e-15j -6.19545992e-15-2.55908117e-15j\n",
      " -6.73180077e-15+8.33456807e-16j -6.73180077e-15-8.33456807e-16j\n",
      " -6.34079374e-15+1.55262527e-15j -6.34079374e-15-1.55262527e-15j\n",
      "  6.41150245e-15+5.93188034e-16j  6.41150245e-15-5.93188034e-16j\n",
      "  6.31386797e-16+5.19694553e-15j  6.31386797e-16-5.19694553e-15j\n",
      "  5.37916934e-15+2.44940492e-15j  5.37916934e-15-2.44940492e-15j\n",
      "  6.13317386e-15+9.16021306e-16j  6.13317386e-15-9.16021306e-16j\n",
      " -6.49273839e-15+0.00000000e+00j -6.17798961e-15+0.00000000e+00j\n",
      "  5.98125544e-15+0.00000000e+00j -5.59289555e-15+1.77178140e-15j\n",
      " -5.59289555e-15-1.77178140e-15j -4.70878626e-15+2.66572101e-15j\n",
      " -4.70878626e-15-2.66572101e-15j  3.98246196e-15+3.37517392e-15j\n",
      "  3.98246196e-15-3.37517392e-15j  2.48304310e-15+4.29360195e-15j\n",
      "  2.48304310e-15-4.29360195e-15j  5.25617862e-15+1.37589436e-15j\n",
      "  5.25617862e-15-1.37589436e-15j  5.16022396e-15+1.46296217e-15j\n",
      "  5.16022396e-15-1.46296217e-15j  5.35965540e-15+0.00000000e+00j\n",
      " -2.63344059e-15+3.92072606e-15j -2.63344059e-15-3.92072606e-15j\n",
      " -5.46562323e-15+7.88153986e-16j -5.46562323e-15-7.88153986e-16j\n",
      " -5.58604052e-15+1.21718211e-16j -5.58604052e-15-1.21718211e-16j\n",
      "  2.51420804e-15+3.87045539e-15j  2.51420804e-15-3.87045539e-15j\n",
      " -4.11944070e-15+2.77624413e-15j -4.11944070e-15-2.77624413e-15j\n",
      " -4.80130560e-15+1.87488831e-15j -4.80130560e-15-1.87488831e-15j\n",
      " -5.67709651e-16+4.16027818e-15j -5.67709651e-16-4.16027818e-15j\n",
      " -3.54104599e-15+3.09689195e-15j -3.54104599e-15-3.09689195e-15j\n",
      "  4.33982843e-15+1.96873295e-15j  4.33982843e-15-1.96873295e-15j\n",
      " -1.04590349e-15+3.97467224e-15j -1.04590349e-15-3.97467224e-15j\n",
      " -4.91408412e-15+1.01483010e-15j -4.91408412e-15-1.01483010e-15j\n",
      "  1.00505537e-15+3.95329095e-15j  1.00505537e-15-3.95329095e-15j\n",
      "  2.45318473e-16+3.83726087e-15j  2.45318473e-16-3.83726087e-15j\n",
      "  4.73026018e-15+2.88013426e-16j  4.73026018e-15-2.88013426e-16j\n",
      "  2.71636917e-15+3.16502586e-15j  2.71636917e-15-3.16502586e-15j\n",
      " -2.97382192e-15+2.90890526e-15j -2.97382192e-15-2.90890526e-15j\n",
      "  4.51525885e-15+0.00000000e+00j  4.00456962e-15+1.68833457e-15j\n",
      "  4.00456962e-15-1.68833457e-15j  3.23131718e-15+2.33973319e-15j\n",
      "  3.23131718e-15-2.33973319e-15j -4.25828119e-15+1.27515888e-15j\n",
      " -4.25828119e-15-1.27515888e-15j -4.48910038e-15+5.40038659e-16j\n",
      " -4.48910038e-15-5.40038659e-16j -3.00078288e-15+2.63911339e-15j\n",
      " -3.00078288e-15-2.63911339e-15j -1.97103704e-15+3.16457381e-15j\n",
      " -1.97103704e-15-3.16457381e-15j  4.24776081e-15+0.00000000e+00j\n",
      " -3.91002667e-15+1.23786398e-15j -3.91002667e-15-1.23786398e-15j\n",
      "  3.90904324e-15+1.12643859e-15j  3.90904324e-15-1.12643859e-15j\n",
      " -3.90461636e-15+3.32216571e-16j -3.90461636e-15-3.32216571e-16j\n",
      "  1.21453934e-15+2.91404210e-15j  1.21453934e-15-2.91404210e-15j\n",
      "  2.81114813e-15+2.08126962e-15j  2.81114813e-15-2.08126962e-15j\n",
      "  3.80947451e-15+0.00000000e+00j -7.15042844e-16+2.87111228e-15j\n",
      " -7.15042844e-16-2.87111228e-15j  3.45797445e-15+5.42100857e-16j\n",
      "  3.45797445e-15-5.42100857e-16j  2.08990013e-15+2.27673752e-15j\n",
      "  2.08990013e-15-2.27673752e-15j -3.33305871e-15+0.00000000e+00j\n",
      " -2.42247676e-15+1.88968184e-15j -2.42247676e-15-1.88968184e-15j\n",
      "  3.11223397e-15+8.87042064e-16j  3.11223397e-15-8.87042064e-16j\n",
      " -2.68607656e-15+1.69117622e-15j -2.68607656e-15-1.69117622e-15j\n",
      "  2.04507332e-15+1.99280667e-15j  2.04507332e-15-1.99280667e-15j\n",
      "  1.67082961e-15+2.20178348e-15j  1.67082961e-15-2.20178348e-15j\n",
      " -1.24681349e-15+2.32735680e-15j -1.24681349e-15-2.32735680e-15j\n",
      " -1.69814090e-15+2.10935896e-15j -1.69814090e-15-2.10935896e-15j\n",
      " -4.47404221e-16+2.42982182e-15j -4.47404221e-16-2.42982182e-15j\n",
      "  9.40695927e-16+2.26547382e-15j  9.40695927e-16-2.26547382e-15j\n",
      " -3.03923953e-15+0.00000000e+00j -2.76383485e-15+7.12979972e-16j\n",
      " -2.76383485e-15-7.12979972e-16j  2.78268665e-15+0.00000000e+00j\n",
      " -2.59002323e-15+5.70130107e-16j -2.59002323e-15-5.70130107e-16j\n",
      " -1.83948770e-15+1.29183643e-15j -1.83948770e-15-1.29183643e-15j\n",
      " -2.50805248e-15+0.00000000e+00j  2.43855929e-15+6.31367373e-16j\n",
      "  2.43855929e-15-6.31367373e-16j  3.55269151e-16+1.91474690e-15j\n",
      "  3.55269151e-16-1.91474690e-15j  2.04577777e-15+1.01701350e-15j\n",
      "  2.04577777e-15-1.01701350e-15j -2.51165603e-16+1.69550450e-15j\n",
      " -2.51165603e-16-1.69550450e-15j  2.23854031e-15+0.00000000e+00j\n",
      "  1.56778957e-15+9.82720664e-16j  1.56778957e-15-9.82720664e-16j\n",
      " -1.03448192e-15+1.29873453e-15j -1.03448192e-15-1.29873453e-15j\n",
      "  2.10585074e-16+1.38925790e-15j  2.10585074e-16-1.38925790e-15j\n",
      "  1.04755366e-15+1.26024709e-15j  1.04755366e-15-1.26024709e-15j\n",
      " -1.87698045e-15+4.57913893e-16j -1.87698045e-15-4.57913893e-16j\n",
      " -9.58679415e-16+6.98878519e-16j -9.58679415e-16-6.98878519e-16j\n",
      " -1.36043642e-15+3.81263859e-16j -1.36043642e-15-3.81263859e-16j\n",
      " -7.29884911e-17+8.31610718e-16j -7.29884911e-17-8.31610718e-16j\n",
      " -1.30248397e-15+0.00000000e+00j  7.89482115e-16+8.04047189e-16j\n",
      "  7.89482115e-16-8.04047189e-16j  5.80855077e-17+6.57165680e-16j\n",
      "  5.80855077e-17-6.57165680e-16j  1.36545978e-15+2.01059123e-16j\n",
      "  1.36545978e-15-2.01059123e-16j  6.17787911e-18+0.00000000e+00j\n",
      "  1.20500288e-15+0.00000000e+00j  8.73533968e-16+0.00000000e+00j]\n"
     ]
    }
   ],
   "source": [
    "print(eig_vals)"
   ]
  },
  {
   "cell_type": "code",
   "execution_count": 66,
   "metadata": {},
   "outputs": [
    {
     "data": {
      "text/plain": [
       "(0.9960864836732894+0j)"
      ]
     },
     "execution_count": 66,
     "metadata": {},
     "output_type": "execute_result"
    }
   ],
   "source": [
    "eig_vals[0]/sum(eig_vals)  # 고유값 중의 최대값의 비중을 확인하면 99.60% 라는 거의 대부분의 정보를 이 한개의 값이 담고있다는것을 알 수 있다."
   ]
  },
  {
   "cell_type": "code",
   "execution_count": 12,
   "metadata": {},
   "outputs": [
    {
     "data": {
      "text/plain": [
       "(20,)"
      ]
     },
     "execution_count": 12,
     "metadata": {},
     "output_type": "execute_result"
    }
   ],
   "source": [
    "projected_X = x_std.dot(eig_vecs.T[0]) # dot 연산은 행렬을 곱해주는 연산이다. 즉 A.dot(B) 이렇게 있으면 AxB 의 행렬을 구해준다\n",
    "# 때문에 x_std는 (20x216) 이었고 eig_vecs.T[0] 은 (216x1) 이니까 곱해주면 20 array가 나온다.\n",
    "projected_X.shape # 20 array 형태가 나온다."
   ]
  },
  {
   "cell_type": "code",
   "execution_count": 13,
   "metadata": {},
   "outputs": [
    {
     "data": {
      "text/plain": [
       "(1, 21)"
      ]
     },
     "execution_count": 13,
     "metadata": {},
     "output_type": "execute_result"
    }
   ],
   "source": [
    "y = np.asmatrix(projected_X) #  20 어레이 형태를 (1x20) 행렬로 만들어준다\n",
    "a = y  # a 에는 이제 계속 정상 데이터들로만 담을거임\n",
    "b = np.array([0]) # 0 이라는 값을 담은 어레이를 하나 만든다.(이 0 은 나중이 ocsvm을 돌릴때 label로 사용될거임)\n",
    "b = b.reshape(-1,1) # 0 이라는 값을 컬럼값으로 바꿔주고\n",
    "a = np.hstack((a,b)) # hstack 을 사용하여 0 값을 컬럼에 합쳐주어 (1x21) 을 만든다.\n",
    "a.shape"
   ]
  },
  {
   "cell_type": "code",
   "execution_count": 15,
   "metadata": {},
   "outputs": [
    {
     "data": {
      "text/plain": [
       "(2862, 21)"
      ]
     },
     "execution_count": 15,
     "metadata": {},
     "output_type": "execute_result"
    }
   ],
   "source": [
    "for i in range(2,2872):   # 불량을 제외한 나머지 모든 정상데이터들에 대해 위의 행위를 적용시켜 concate 시켜서 최종적으로 (2862x21) 을 만든다.\n",
    "    if i==1119 or i==2495 or i==2442 or i==1905 or i==2596 or i==2393 or i==2211 or i==2603 or i==2605:\n",
    "        continue\n",
    "    y, sr = librosa.load('wav폴더\\\\test{}.wav'.format(i), sr = 22050)\n",
    "\n",
    "    mfcc = librosa.feature.mfcc(y=y, sr=sr)\n",
    "\n",
    "    x_std = StandardScaler().fit_transform(mfcc)\n",
    "    \n",
    "    features = x_std.T\n",
    "    \n",
    "    covariance_matrix = np.cov(features)\n",
    "    \n",
    "    eig_vals, eig_vecs = np.linalg.eig(covariance_matrix)\n",
    "    \n",
    "    projected_X = x_std.dot(eig_vecs.T[0])\n",
    "    \n",
    "    y = np.asmatrix(projected_X)\n",
    "    b = y\n",
    "    c = np.array([0])\n",
    "    c = c.reshape(-1,1)\n",
    "    b = np.hstack((b,c))\n",
    "    a = np.concatenate((a,b),axis=0)\n",
    "    \n",
    "a.shape"
   ]
  },
  {
   "cell_type": "code",
   "execution_count": 70,
   "metadata": {},
   "outputs": [],
   "source": [
    "np.save('train_mfcc20',a)"
   ]
  },
  {
   "cell_type": "code",
   "execution_count": 71,
   "metadata": {},
   "outputs": [
    {
     "data": {
      "text/plain": [
       "(1, 21)"
      ]
     },
     "execution_count": 71,
     "metadata": {},
     "output_type": "execute_result"
    }
   ],
   "source": [
    "y, sr = librosa.load('wav폴더\\\\test1119.wav'.format(i), sr = 22050)  # 똑같이 이번엔 불량 데이터들을 만들어준다.\n",
    "\n",
    "mfcc = librosa.feature.mfcc(y=y, sr=sr)\n",
    "\n",
    "x_std = StandardScaler().fit_transform(mfcc)\n",
    "    \n",
    "features = x_std.T\n",
    "    \n",
    "covariance_matrix = np.cov(features)\n",
    "    \n",
    "eig_vals, eig_vecs = np.linalg.eig(covariance_matrix)\n",
    "    \n",
    "projected_X = x_std.dot(eig_vecs.T[0])\n",
    "    \n",
    "y = np.asmatrix(projected_X)\n",
    "a = y\n",
    "b = np.array([1])  # 불량 데이터의 label은 1 로 한다.\n",
    "b = b.reshape(-1,1)\n",
    "a = np.hstack((a,b))\n",
    "\n",
    "a.shape"
   ]
  },
  {
   "cell_type": "code",
   "execution_count": 72,
   "metadata": {},
   "outputs": [
    {
     "data": {
      "text/plain": [
       "(9, 21)"
      ]
     },
     "execution_count": 72,
     "metadata": {},
     "output_type": "execute_result"
    }
   ],
   "source": [
    "for i in range(2,2872):  # 불량 데이터들만 concate\n",
    "    if i==2495 or i==2442 or i==1905 or i==2596 or i==2393 or i==2211 or i==2603 or i==2605:\n",
    "        y, sr = librosa.load('wav폴더\\\\test{}.wav'.format(i), sr = 22050)\n",
    "\n",
    "        mfcc = librosa.feature.mfcc(y=y, sr=sr)\n",
    "\n",
    "        x_std = StandardScaler().fit_transform(mfcc)\n",
    "    \n",
    "        features = x_std.T\n",
    "    \n",
    "        covariance_matrix = np.cov(features)\n",
    "    \n",
    "        eig_vals, eig_vecs = np.linalg.eig(covariance_matrix)\n",
    "    \n",
    "        projected_X = x_std.dot(eig_vecs.T[0])\n",
    "    \n",
    "        y = np.asmatrix(projected_X)\n",
    "        b = y\n",
    "        c = np.array([1])\n",
    "        c = c.reshape(-1,1)\n",
    "        b = np.hstack((b,c))\n",
    "        a = np.concatenate((a,b),axis=0)\n",
    "    \n",
    "a.shape"
   ]
  },
  {
   "cell_type": "code",
   "execution_count": 73,
   "metadata": {},
   "outputs": [],
   "source": [
    "np.save('test_mfcc20',a)"
   ]
  },
  {
   "cell_type": "code",
   "execution_count": null,
   "metadata": {},
   "outputs": [],
   "source": []
  }
 ],
 "metadata": {
  "kernelspec": {
   "display_name": "Python 3",
   "language": "python",
   "name": "python3"
  },
  "language_info": {
   "codemirror_mode": {
    "name": "ipython",
    "version": 3
   },
   "file_extension": ".py",
   "mimetype": "text/x-python",
   "name": "python",
   "nbconvert_exporter": "python",
   "pygments_lexer": "ipython3",
   "version": "3.7.4"
  }
 },
 "nbformat": 4,
 "nbformat_minor": 2
}
